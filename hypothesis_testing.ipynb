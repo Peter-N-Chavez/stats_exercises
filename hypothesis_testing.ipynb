{
 "cells": [
  {
   "cell_type": "code",
   "execution_count": null,
   "metadata": {},
   "outputs": [],
   "source": [
    "# For each of the following questions, formulate a null and alternative hypothesis (be as specific as you can be), \n",
    "# then give an example of what a true positive, true negative, type I and type II errors would look like. \n",
    "# Note that some of the questions are intentionally phrased in a vague way. It is your job to reword these as more \n",
    "# precise questions that could be tested.\n",
    "\n",
    "   \n",
    "\n",
    "\n"
   ]
  },
  {
   "cell_type": "code",
   "execution_count": null,
   "metadata": {},
   "outputs": [],
   "source": [
    "# Has the network latency gone up since we switched internet service providers?\n",
    "\n",
    "# H0 = The network latency has stayed the same since switching providers.\n",
    "# Ha = The network latency has gone up since switching providers.\n",
    "# Tp = The hypothesis said the latency would be higher, and it was measured to have increased.\n",
    "# Tn = The hypothesis said the latency would be the same, but it was measured to have stayed the same.\n",
    "# T1 = The latency stayed the same, but the hypothesis predicted it was going to be higher.\n",
    "# T2 = The latency went up, but the hypothesis predicted to be it to not change."
   ]
  },
  {
   "cell_type": "code",
   "execution_count": null,
   "metadata": {},
   "outputs": [],
   "source": [
    "# Is the website redesign any good?\n",
    "\n",
    "# H0 = This website redesign is just as good as the previous design.\n",
    "# Ha = This website redesign is an improvement.\n",
    "# Tp = The website redesign was predicted to be an improvement, and it was measured to have improved traffic to the website.\n",
    "# Tn = The website redesign was predicted to be about the same as the original, and traffic stayed the same.\n",
    "# T1 = The traffic stayed the same , but the hypothesis predicted that traffic would increase. \n",
    "# T2 = The hypothesis predicted traffic would stay the same, but it increased. "
   ]
  },
  {
   "cell_type": "code",
   "execution_count": 1,
   "metadata": {},
   "outputs": [],
   "source": [
    "# Is our television ad driving more sales?\n",
    "\n",
    "# H0 = Sales have stayed the same as a result of the ad.\n",
    "# Ha = Sales have decreased due to the backlash from the ad.\n",
    "# Tp = Sales have decreased as predicted.\n",
    "# Tn = Sales have maintained the same level as predicted.\n",
    "# T1 = Sales were predicted to fall, but they stayed the same.\n",
    "# T2 = Sales were predicted to stay the same but they fell. "
   ]
  },
  {
   "cell_type": "code",
   "execution_count": 24,
   "metadata": {},
   "outputs": [],
   "source": [
    "import numpy as np\n",
    "import scipy.stats as stats\n",
    "import pandas as pd\n",
    "import matplotlib.pyplot as plt\n",
    "import matplotlib.image as mpimg\n",
    "import seaborn as sns\n",
    "from pydataset import data\n",
    "import env\n",
    "\n",
    "def get_db_url(hostname, username, password, database):\n",
    "    url = f'mysql+pymysql://{username}:{password}@{hostname}/{database}'\n",
    "    return url\n",
    "\n",
    "url_emp = get_db_url(env.hostname, env.username, env.password, \"employees\")"
   ]
  },
  {
   "cell_type": "code",
   "execution_count": 4,
   "metadata": {},
   "outputs": [
    {
     "data": {
      "text/plain": [
       "(-2.7091418459143854, True)"
      ]
     },
     "execution_count": 4,
     "metadata": {},
     "output_type": "execute_result"
    }
   ],
   "source": [
    "    # Ace Realty wants to determine whether the average time it takes to sell homes is different for its two offices. \n",
    "    # A sample of 40 sales from office #1 revealed a mean of 90 days and a standard deviation of 15 days. \n",
    "    # A sample of 50 sales from office #2 revealed a mean of 100 days and a standard deviation of 20 days. \n",
    "    # Use a .05 level of significance.\n",
    "α = .05\n",
    "t_val, p_val = stats.ttest_ind_from_stats(90, 15, 40, 100, 20, 50, equal_var = False, alternative = \"two-sided\")\n",
    "t_val, p_val < α"
   ]
  },
  {
   "cell_type": "code",
   "execution_count": 14,
   "metadata": {},
   "outputs": [
    {
     "name": "stdout",
     "output_type": "stream",
     "text": [
      "0.3011962975077886 False\n",
      "6.659517511642352 True\n",
      "True True\n"
     ]
    }
   ],
   "source": [
    "# Load the mpg dataset and use it to answer the following questions:\n",
    "\n",
    "mpg = data(\"mpg\")\n",
    "# print(mpg.head(2))\n",
    "\n",
    "# #     Is there a difference in fuel-efficiency in cars from 2008 vs 1999?\n",
    "\n",
    "mpg_08 = 2 / (1/(mpg.loc[(mpg[\"year\"] == 2008)][\"hwy\"]) +\n",
    "          1/(mpg.loc[(mpg[\"year\"] == 2008)][\"cty\"]))\n",
    "mpg_99 = 2 / (1/(mpg.loc[(mpg[\"year\"] == 1999)][\"hwy\"]) +\n",
    "          1/(mpg.loc[(mpg[\"year\"] == 1999)][\"cty\"]))\n",
    "\n",
    "t_check, p_check = stats.levene(mpg_99, mpg_08)\n",
    "t_check, p_check < .05 # variance is equal \n",
    "\n",
    "t_stat, p_val = stats.ttest_ind(mpg_99, mpg_08)\n",
    "print(t_stat, p_val < .05)\n",
    "\n",
    "# # There is no significant difference between the fuel efficiencies.\n",
    "\n",
    "# #     Are compact cars more fuel-efficient than the average car?\n",
    "\n",
    "mpg_comp = 2 / (1/(mpg.loc[(mpg[\"class\"] == \"compact\")][\"hwy\"]) +\n",
    "          1/(mpg.loc[(mpg[\"class\"] == \"compact\")][\"cty\"]))\n",
    "mpg_all = 2 / (1/(mpg.loc[(mpg[\"class\"] != \"compact\")][\"hwy\"]) +\n",
    "          1/(mpg.loc[(mpg[\"class\"] != \"compact\")][\"cty\"]))\n",
    "\n",
    "t_stat, p_val = stats.ttest_ind(mpg_comp, mpg_all)\n",
    "print(t_stat, p_val < .05)\n",
    "\n",
    "#     Do manual cars get better gas mileage than automatic cars?\n",
    "mpg[\"avg_fuel\"] = stats.hmean(mpg[[\"cty\",\"hwy\"]], axis=1)\n",
    "mask_man = mpg[\"trans\"].str.contains(\"manual\")\n",
    "mpg_man = mpg.loc[(mask_man)]\n",
    "mask_auto = mpg[\"trans\"].str.contains(\"auto\")\n",
    "mpg_auto = mpg.loc[(mask_auto)]\n",
    "mpg_man = mpg_man.avg_fuel\n",
    "mpg_auto = mpg_auto.avg_fuel\n",
    "\n",
    "t_stat, p_val = stats.ttest_ind(mpg_man, mpg_auto)\n",
    "print(t_stat > 0, (p_val/2) < .05)"
   ]
  },
  {
   "cell_type": "code",
   "execution_count": null,
   "metadata": {},
   "outputs": [],
   "source": [
    "# Use the telco_churn data. \n",
    "\n",
    "\n",
    "\n",
    "# Does tenure correlate with monthly charges? \n",
    "\n",
    "sns.relplot\n",
    "\n",
    "r, p = stats.pearsonr.(df.tenure, df.monthlycharges)\n",
    "r, p\n",
    "\n",
    "# Total charges?\n",
    "\n",
    "df.totalchargs.str.replace(\" \", \"0\").astype(float)\n",
    "# or df.totalcharges = df[df.totalcharges != \" \"]\n",
    "\n",
    "r, p = stats.pearsonr(df.tenure, df. totalcharges)\n",
    "r, p\n",
    "\n",
    "# What happens if you control for phone and internet service?\n",
    "\n",
    "sns.relplot(data = df, x = df.tenure, y = df.totatlcharges, hue = df.phoneservice, col = df.internetservice)\n",
    "df.groupby([\"internetservice\", \"phoneservice\"]).count()\n",
    "\n"
   ]
  },
  {
   "cell_type": "code",
   "execution_count": null,
   "metadata": {},
   "outputs": [],
   "source": [
    "# Use the employees database.\n",
    "\n",
    "# Is there a relationship between how long an employee has been with the company and their salary?\n",
    "\n",
    "query = '''SELECT *\n",
    "           FROM employees\n",
    "           JOIN salaries\n",
    "           USING (emp_no)\n",
    "           WHERE to_date > CURDATE()'''\n",
    "\n",
    "# Is there a relationship between how long an employee has been with the company and the number of titles they have had?\n",
    "\n",
    "query = '''SELECT emp_no, datediff(max(to_dat), min(to_date)) as tenure, COUNT(title) as num_titles \n",
    "           FROM titles\n",
    "           GROUP BY emp_no\n",
    "           WHERE to_date > CURDATE()'''"
   ]
  },
  {
   "cell_type": "code",
   "execution_count": 2,
   "metadata": {},
   "outputs": [],
   "source": [
    "# Use the sleepstudy data. \n",
    "\n",
    "sleep = data(\"sleepstudy\")\n",
    "\n",
    "# Is there a relationship between days and reaction time?\n",
    "\n",
    "\n"
   ]
  },
  {
   "cell_type": "code",
   "execution_count": 6,
   "metadata": {},
   "outputs": [
    {
     "data": {
      "image/png": "[encoded data removed]",
      "text/plain": [
       "<Figure size 432x288 with 1 Axes>"
      ]
     },
     "metadata": {
      "needs_background": "light"
     },
     "output_type": "display_data"
    }
   ],
   "source": [
    "# Use the following contingency table to help answer the question of whether using a macbook and \n",
    "# being a codeup student are independent of each other.\n",
    "image = mpimg.imread(\"chi2_exercise1_table.png\")\n",
    "plt.imshow(image)\n",
    "plt.show()"
   ]
  },
  {
   "cell_type": "code",
   "execution_count": 13,
   "metadata": {},
   "outputs": [
    {
     "name": "stdout",
     "output_type": "stream",
     "text": [
      "Observed\n",
      "[[49 20]\n",
      " [ 1 30]]\n",
      "\n",
      "Expected\n",
      "[[34 34]\n",
      " [15 15]]\n",
      "\n",
      "----\n",
      "chi^2 = 36.6526\n",
      "p     = 0.0000\n",
      "degf(k)  = 1.0\n"
     ]
    },
    {
     "data": {
      "text/plain": [
       "True"
      ]
     },
     "execution_count": 13,
     "metadata": {},
     "output_type": "execute_result"
    }
   ],
   "source": [
    "# H0 = Using a MacBook and being a CodeUp student are independent of each other.\n",
    "# Ha = Using a MacBook and being a CodeUp student are not independent of each other.\n",
    "\n",
    "observed = pd.DataFrame([[49, 20],\n",
    "                        [1, 30]], \n",
    "                        index = [\"Uses a Macbook\", \"Doesn't Use a Macbook\"], \n",
    "                        columns = [\"Codeup Student\", \"Not a Codeup Student\"])\n",
    "\n",
    "chi2, p, degf, expected = stats.chi2_contingency(observed)\n",
    "α = .05\n",
    "\n",
    "print('Observed')\n",
    "print(observed.values)\n",
    "print('\\nExpected')\n",
    "print(expected.astype(int))\n",
    "print('\\n----')\n",
    "print(f'chi^2 = {chi2:.4f}')\n",
    "print(f'p     = {p:.4f}')\n",
    "print(f'degf(k)  = {degf:.1f}')\n",
    "\n",
    "p < α\n",
    "\n",
    "# Τhe H0 can be rejected."
   ]
  },
  {
   "cell_type": "code",
   "execution_count": 23,
   "metadata": {},
   "outputs": [
    {
     "name": "stdout",
     "output_type": "stream",
     "text": [
      "Observed\n",
      "[[18]\n",
      " [19]\n",
      " [37]\n",
      " [25]\n",
      " [ 9]\n",
      " [14]\n",
      " [ 8]\n",
      " [ 4]\n",
      " [ 3]\n",
      " [ 4]\n",
      " [13]\n",
      " [ 5]\n",
      " [14]\n",
      " [34]\n",
      " [27]]\n",
      "\n",
      "Expected\n",
      "[[18]\n",
      " [19]\n",
      " [37]\n",
      " [25]\n",
      " [ 9]\n",
      " [14]\n",
      " [ 8]\n",
      " [ 4]\n",
      " [ 3]\n",
      " [ 4]\n",
      " [13]\n",
      " [ 5]\n",
      " [14]\n",
      " [34]\n",
      " [27]]\n",
      "\n",
      "----\n",
      "chi^2 = 0.0000\n",
      "p     = 1.0000\n",
      "degf(k)  = 0.0\n"
     ]
    }
   ],
   "source": [
    "# Choose another 2 categorical variables from the mpg dataset and perform a chi2 contingency table test with them.\n",
    "\n",
    "observed = pd.crosstab(mpg., mpg.displ.mean())\n",
    "\n",
    "# Be sure to state your null and alternative hypotheses.\n",
    "\n",
    "chi2, p, degf, expected = stats.chi2_contingency(observed)\n",
    "α = .05\n",
    "\n",
    "print('Observed')\n",
    "print(observed.values)\n",
    "print('\\nExpected')\n",
    "print(expected.astype(int))\n",
    "print('\\n----')\n",
    "print(f'chi^2 = {chi2:.4f}')\n",
    "print(f'p     = {p:.4f}')\n",
    "print(f'degf(k)  = {degf:.1f}')\n",
    "\n",
    "# p < α"
   ]
  },
  {
   "cell_type": "code",
   "execution_count": 59,
   "metadata": {},
   "outputs": [
    {
     "name": "stdout",
     "output_type": "stream",
     "text": [
      "Observed\n",
      "[[ 5864 14999]\n",
      " [ 8978 22702]]\n",
      "\n",
      "Expected\n",
      "[[ 5893 14969]\n",
      " [ 8948 22731]]\n",
      "\n",
      "----\n",
      "chi^2 = 0.3240\n",
      "p     = 0.5692\n",
      "degf(k)  = 1.0 \n",
      "\n",
      "Observed\n",
      "[[0 1]\n",
      " [0 1]\n",
      " [0 1]\n",
      " [1 0]\n",
      " [1 0]\n",
      " [1 0]\n",
      " [1 0]\n",
      " [1 0]\n",
      " [0 1]\n",
      " [0 1]\n",
      " [0 1]\n",
      " [1 0]\n",
      " [1 0]\n",
      " [1 0]\n",
      " [1 0]\n",
      " [0 1]\n",
      " [0 1]\n",
      " [0 1]\n",
      " [0 1]\n",
      " [1 0]\n",
      " [1 0]\n",
      " [1 0]\n",
      " [1 0]\n",
      " [0 1]]\n",
      "\n",
      "Expected\n",
      "[[0 0]\n",
      " [0 0]\n",
      " [0 0]\n",
      " [0 0]\n",
      " [0 0]\n",
      " [0 0]\n",
      " [0 0]\n",
      " [0 0]\n",
      " [0 0]\n",
      " [0 0]\n",
      " [0 0]\n",
      " [0 0]\n",
      " [0 0]\n",
      " [0 0]\n",
      " [0 0]\n",
      " [0 0]\n",
      " [0 0]\n",
      " [0 0]\n",
      " [0 0]\n",
      " [0 0]\n",
      " [0 0]\n",
      " [0 0]\n",
      " [0 0]\n",
      " [0 0]]\n",
      "\n",
      "----\n",
      "chi^2 = 24.0000\n",
      "p     = 0.4038\n",
      "degf(k)  = 23.0\n"
     ]
    },
    {
     "data": {
      "text/plain": [
       "False"
      ]
     },
     "execution_count": 59,
     "metadata": {},
     "output_type": "execute_result"
    }
   ],
   "source": [
    "\n",
    "\n",
    "# Use the data from the employees database to answer these questions:\n",
    " \n",
    "# Is a current employee's gender independent of whether they work in sales or marketing?\n",
    "\n",
    "query = '''SELECT emp_no, gender, dept_name\n",
    "           FROM employees\n",
    "           LEFT JOIN dept_emp\n",
    "           USING (emp_no)\n",
    "           LEFT JOIN departments\n",
    "           USING (dept_no)\n",
    "           WHERE to_date > CURDATE()\n",
    "           AND dept_name in (\"Sales\", \"Marketing\")\n",
    "           GROUP BY gender, emp_no, dept_name;'''\n",
    "\n",
    "df = pd.read_sql(query, url_emp)\n",
    "\n",
    "observed = pd.crosstab(df.gender, df.dept_name)\n",
    "\n",
    "chi2, p, degf, expected = stats.chi2_contingency(observed)\n",
    "α = .05\n",
    "\n",
    "print('Observed')\n",
    "print(observed.values)\n",
    "print('\\nExpected')\n",
    "print(expected.astype(int))\n",
    "print('\\n----')\n",
    "print(f'chi^2 = {chi2:.4f}')\n",
    "print(f'p     = {p:.4f}')\n",
    "print(f'degf(k)  = {degf:.1f}', \"\\n\")\n",
    "\n",
    "p < α\n",
    "\n",
    "# Is an employee's gender independent of whether or not they are or have been a manager?\n",
    "\n",
    "\n",
    "query = '''SELECT emp_no, gender, title\n",
    "           FROM employees\n",
    "           LEFT JOIN titles\n",
    "           USING (emp_no)\n",
    "           WHERE title = \"Manager\"\n",
    "           GROUP BY gender, title, emp_no ;'''\n",
    "\n",
    "df = pd.read_sql(query, url_emp)\n",
    "\n",
    "observed = pd.crosstab(df.emp_no, df.gender)\n",
    "\n",
    "chi2, p, degf, expected = stats.chi2_contingency(observed)\n",
    "α = .05\n",
    "\n",
    "print('Observed')\n",
    "print(observed.values)\n",
    "print('\\nExpected')\n",
    "print(expected.astype(int))\n",
    "print('\\n----')\n",
    "print(f'chi^2 = {chi2:.4f}')\n",
    "print(f'p     = {p:.4f}')\n",
    "print(f'degf(k)  = {degf:.1f}')\n",
    "\n",
    "p < α"
   ]
  }
 ],
 "metadata": {
  "kernelspec": {
   "display_name": "Python 3.9.12 ('base')",
   "language": "python",
   "name": "python3"
  },
  "language_info": {
   "codemirror_mode": {
    "name": "ipython",
    "version": 3
   },
   "file_extension": ".py",
   "mimetype": "text/x-python",
   "name": "python",
   "nbconvert_exporter": "python",
   "pygments_lexer": "ipython3",
   "version": "3.9.12"
  },
  "orig_nbformat": 4,
  "vscode": {
   "interpreter": {
    "hash": "38cca0c38332a56087b24af0bc80247f4fced29cb4f7f437d91dc159adec9c4e"
   }
  }
 },
 "nbformat": 4,
 "nbformat_minor": 2
}
