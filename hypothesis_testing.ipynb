{
 "cells": [
  {
   "cell_type": "code",
   "execution_count": null,
   "metadata": {},
   "outputs": [],
   "source": [
    "# For each of the following questions, formulate a null and alternative hypothesis (be as specific as you can be), \n",
    "# then give an example of what a true positive, true negative, type I and type II errors would look like. \n",
    "# Note that some of the questions are intentionally phrased in a vague way. It is your job to reword these as more \n",
    "# precise questions that could be tested.\n",
    "\n",
    "   \n",
    "\n",
    "\n"
   ]
  },
  {
   "cell_type": "code",
   "execution_count": null,
   "metadata": {},
   "outputs": [],
   "source": [
    "# Has the network latency gone up since we switched internet service providers?\n",
    "\n",
    "# H0 = The network latency has stayed the same since switching providers.\n",
    "# Ha = The network latency has gone up since switching providers.\n",
    "# Tp = The hypothesis said the latency would be higher, and it was measured to have increased.\n",
    "# Tn = The hypothesis said the latency would be the same, but it was measured to have stayed the same.\n",
    "# T1 = The latency stayed the same, but the hypothesis predicted it was going to be higher.\n",
    "# T2 = The latency went up, but the hypothesis predicted to be it to not change."
   ]
  },
  {
   "cell_type": "code",
   "execution_count": null,
   "metadata": {},
   "outputs": [],
   "source": [
    "# Is the website redesign any good?\n",
    "\n",
    "# H0 = This website redesign is just as good as the previous design.\n",
    "# Ha = This website redesign is an improvement.\n",
    "# Tp = The website redesign was predicted to be an improvement, and it was measured to have improved traffic to the website.\n",
    "# Tn = The website redesign was predicted to be about the same as the original, and traffic stayed the same.\n",
    "# T1 = The traffic stayed the same , but the hypothesis predicted that traffic would increase. \n",
    "# T2 = The hypothesis predicted traffic would stay the same, but it increased. "
   ]
  },
  {
   "cell_type": "code",
   "execution_count": null,
   "metadata": {},
   "outputs": [],
   "source": [
    "# Is our television ad driving more sales?\n",
    "\n",
    "# H0 = Sales have stayed the same as a result of the ad.\n",
    "# Ha = Sales have decreased due to the backlash from the ad.\n",
    "# Tp = Sales have decreased as predicted.\n",
    "# Tn = Sales have maintained the same level as predicted.\n",
    "# T1 = Sales were predicted to fall, but they stayed the same.\n",
    "# T2 = Sales were predicted to stay the same but they fell. "
   ]
  }
 ],
 "metadata": {
  "kernelspec": {
   "display_name": "Python 3.9.12 ('base')",
   "language": "python",
   "name": "python3"
  },
  "language_info": {
   "name": "python",
   "version": "3.9.12"
  },
  "orig_nbformat": 4,
  "vscode": {
   "interpreter": {
    "hash": "38cca0c38332a56087b24af0bc80247f4fced29cb4f7f437d91dc159adec9c4e"
   }
  }
 },
 "nbformat": 4,
 "nbformat_minor": 2
}
