{
 "cells": [
  {
   "cell_type": "code",
   "execution_count": null,
   "metadata": {},
   "outputs": [],
   "source": [
    "# For each of the following questions, formulate a null and alternative hypothesis (be as specific as you can be), \n",
    "# then give an example of what a true positive, true negative, type I and type II errors would look like. \n",
    "# Note that some of the questions are intentionally phrased in a vague way. It is your job to reword these as more \n",
    "# precise questions that could be tested.\n",
    "\n",
    "   \n",
    "\n",
    "\n"
   ]
  },
  {
   "cell_type": "code",
   "execution_count": null,
   "metadata": {},
   "outputs": [],
   "source": [
    "# Has the network latency gone up since we switched internet service providers?\n",
    "\n",
    "# H0 = The network latency has stayed the same since switching providers.\n",
    "# Ha = The network latency has gone up since switching providers.\n",
    "# Tp = The hypothesis said the latency would be higher, and it was measured to have increased.\n",
    "# Tn = The hypothesis said the latency would be the same, but it was measured to have stayed the same.\n",
    "# T1 = The latency stayed the same, but the hypothesis predicted it was going to be higher.\n",
    "# T2 = The latency went up, but the hypothesis predicted to be it to not change."
   ]
  },
  {
   "cell_type": "code",
   "execution_count": null,
   "metadata": {},
   "outputs": [],
   "source": [
    "# Is the website redesign any good?\n",
    "\n",
    "# H0 = This website redesign is just as good as the previous design.\n",
    "# Ha = This website redesign is an improvement.\n",
    "# Tp = The website redesign was predicted to be an improvement, and it was measured to have improved traffic to the website.\n",
    "# Tn = The website redesign was predicted to be about the same as the original, and traffic stayed the same.\n",
    "# T1 = The traffic stayed the same , but the hypothesis predicted that traffic would increase. \n",
    "# T2 = The hypothesis predicted traffic would stay the same, but it increased. "
   ]
  },
  {
   "cell_type": "code",
   "execution_count": 1,
   "metadata": {},
   "outputs": [],
   "source": [
    "# Is our television ad driving more sales?\n",
    "\n",
    "# H0 = Sales have stayed the same as a result of the ad.\n",
    "# Ha = Sales have decreased due to the backlash from the ad.\n",
    "# Tp = Sales have decreased as predicted.\n",
    "# Tn = Sales have maintained the same level as predicted.\n",
    "# T1 = Sales were predicted to fall, but they stayed the same.\n",
    "# T2 = Sales were predicted to stay the same but they fell. "
   ]
  },
  {
   "cell_type": "code",
   "execution_count": 1,
   "metadata": {},
   "outputs": [],
   "source": [
    "import numpy as np\n",
    "import scipy.stats as stats\n",
    "import pandas as pd\n",
    "import matplotlib.pyplot as plt\n",
    "import seaborn as sns\n",
    "from pydataset import data\n",
    "import env\n",
    "\n",
    "def get_db_url(hostname, username, password, database):\n",
    "    url = f'mysql+pymysql://{username}:{password}@{hostname}/{database}'\n",
    "    return url\n",
    "\n",
    "url_emp = get_db_url(env.hostname, env.username, env.password, \"employees\")"
   ]
  },
  {
   "cell_type": "code",
   "execution_count": 4,
   "metadata": {},
   "outputs": [
    {
     "data": {
      "text/plain": [
       "(-2.7091418459143854, True)"
      ]
     },
     "execution_count": 4,
     "metadata": {},
     "output_type": "execute_result"
    }
   ],
   "source": [
    "    # Ace Realty wants to determine whether the average time it takes to sell homes is different for its two offices. \n",
    "    # A sample of 40 sales from office #1 revealed a mean of 90 days and a standard deviation of 15 days. \n",
    "    # A sample of 50 sales from office #2 revealed a mean of 100 days and a standard deviation of 20 days. \n",
    "    # Use a .05 level of significance.\n",
    "α = .05\n",
    "t_val, p_val = stats.ttest_ind_from_stats(90, 15, 40, 100, 20, 50, equal_var = False, alternative = \"two-sided\")\n",
    "t_val, p_val < α"
   ]
  },
  {
   "cell_type": "code",
   "execution_count": 4,
   "metadata": {},
   "outputs": [
    {
     "name": "stdout",
     "output_type": "stream",
     "text": [
      "True True\n"
     ]
    }
   ],
   "source": [
    "# Load the mpg dataset and use it to answer the following questions:\n",
    "\n",
    "mpg = data(\"mpg\")\n",
    "# print(mpg.head(2))\n",
    "\n",
    "# #     Is there a difference in fuel-efficiency in cars from 2008 vs 1999?\n",
    "\n",
    "mpg_08 = 2 / (1/(mpg.loc[(mpg[\"year\"] == 2008)][\"hwy\"]) +\n",
    "          1/(mpg.loc[(mpg[\"year\"] == 2008)][\"cty\"]))\n",
    "mpg_99 = 2 / (1/(mpg.loc[(mpg[\"year\"] == 1999)][\"hwy\"]) +\n",
    "          1/(mpg.loc[(mpg[\"year\"] == 1999)][\"cty\"]))\n",
    "\n",
    "t_check, p_check = stats.levene(mpg_99, mpg_08)\n",
    "t_check, p_check < .05 # variance is equal \n",
    "\n",
    "t_stat, p_val = stats.ttest_ind(mpg_99, mpg_08)\n",
    "print(t_stat, p_val < .05)\n",
    "\n",
    "# # There is no significant difference between the fuel efficiencies.\n",
    "\n",
    "# #     Are compact cars more fuel-efficient than the average car?\n",
    "\n",
    "mpg_comp = 2 / (1/(mpg.loc[(mpg[\"class\"] == \"compact\")][\"hwy\"]) +\n",
    "          1/(mpg.loc[(mpg[\"class\"] == \"compact\")][\"cty\"]))\n",
    "mpg_all = 2 / (1/(mpg.loc[(mpg[\"class\"] != \"compact\")][\"hwy\"]) +\n",
    "          1/(mpg.loc[(mpg[\"class\"] != \"compact\")][\"cty\"]))\n",
    "\n",
    "t_stat, p_val = stats.ttest_ind(mpg_comp, mpg_all)\n",
    "print(t_stat, p_val < .05)\n",
    "\n",
    "#     Do manual cars get better gas mileage than automatic cars?\n",
    "mpg[\"avg_fuel\"] = stats.hmean(mpg[[\"cty\",\"hwy\"]], axis=1)\n",
    "mask_man = mpg[\"trans\"].str.contains(\"manual\")\n",
    "mpg_man = mpg.loc[(mask_man)]\n",
    "mask_auto = mpg[\"trans\"].str.contains(\"auto\")\n",
    "mpg_auto = mpg.loc[(mask_auto)]\n",
    "mpg_man = mpg_man.avg_fuel\n",
    "mpg_auto = mpg_auto.avg_fuel\n",
    "\n",
    "t_stat, p_val = stats.ttest_ind(mpg_man, mpg_auto)\n",
    "print(t_stat > 0, (p_val/2) < .05)"
   ]
  },
  {
   "cell_type": "code",
   "execution_count": null,
   "metadata": {},
   "outputs": [],
   "source": [
    "# Use the telco_churn data. \n",
    "# Does tenure correlate with monthly charges? \n",
    "# Total charges? \n",
    "# What happens if you control for phone and internet service?"
   ]
  },
  {
   "cell_type": "code",
   "execution_count": null,
   "metadata": {},
   "outputs": [],
   "source": [
    "# Use the employees database.\n",
    "\n",
    "# Is there a relationship between how long an employee has been with the company and their salary?\n",
    "# Is there a relationship between how long an employee has been with the company and the number of titles they have had?"
   ]
  },
  {
   "cell_type": "code",
   "execution_count": null,
   "metadata": {},
   "outputs": [],
   "source": [
    "# Use the sleepstudy data. \n",
    "# Is there a relationship between days and reaction time?"
   ]
  }
 ],
 "metadata": {
  "kernelspec": {
   "display_name": "Python 3.9.12 ('base')",
   "language": "python",
   "name": "python3"
  },
  "language_info": {
   "codemirror_mode": {
    "name": "ipython",
    "version": 3
   },
   "file_extension": ".py",
   "mimetype": "text/x-python",
   "name": "python",
   "nbconvert_exporter": "python",
   "pygments_lexer": "ipython3",
   "version": "3.9.12"
  },
  "orig_nbformat": 4,
  "vscode": {
   "interpreter": {
    "hash": "38cca0c38332a56087b24af0bc80247f4fced29cb4f7f437d91dc159adec9c4e"
   }
  }
 },
 "nbformat": 4,
 "nbformat_minor": 2
}
